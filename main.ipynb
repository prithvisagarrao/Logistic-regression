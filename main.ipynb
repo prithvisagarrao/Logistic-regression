{
 "cells": [
  {
   "cell_type": "code",
   "execution_count": 1,
   "metadata": {},
   "outputs": [
    {
     "name": "stdout",
     "output_type": "stream",
     "text": [
      "0.9824561403508771\n",
      "1.0\n",
      "0.9473684210526315\n"
     ]
    }
   ],
   "source": [
    "import pandas as pd\n",
    "from sklearn.preprocessing import LabelEncoder\n",
    "from sklearn.model_selection import train_test_split\n",
    "from sklearn import preprocessing\n",
    "import numpy as np\n",
    "import matplotlib.pyplot as plt\n",
    "from sklearn.metrics import precision_score,recall_score, accuracy_score\n",
    "from sklearn import metrics\n",
    "\n",
    "def load_data(path, header):\n",
    "    cancer_df = pd.read_csv(path, header=header)\n",
    "    return cancer_df\n",
    "if __name__ == \"__main__\":\n",
    "    data = load_data(\"wdbc.dataset\",None)\n",
    "    \n",
    "    #binarize the target values\n",
    "    data.loc[data[1] == 'M', 1] = 1\n",
    "    data.loc[data[1] == 'B', 1] = 0\n",
    "    \n",
    "    #split input from target and remove ID column\n",
    "    X = data.iloc[:, 2:]\n",
    "    y = data.iloc[:, 1]\n",
    "    \n",
    "    \n",
    "    \n",
    "    #labelencoder = LabelEncoder()\n",
    "    \n",
    "    #y.iloc[:, 0] = labelencoder.fit_transform(y.iloc[:,0])\n",
    "    \n",
    "    #split data into trainig, testing and validation    \n",
    "    X_train, X_test, y_train, y_test  =train_test_split(X,y, test_size = 0.1, random_state=5)\n",
    "    X_train, X_val, y_train, y_val  =train_test_split(X_train,y_train, test_size = 0.1, random_state=5)\n",
    "    \n",
    "    #scaling and standardization\n",
    "    mm_scaler = preprocessing.MinMaxScaler()\n",
    "    X_train_minmax = mm_scaler.fit_transform(X_train)\n",
    "    #mm_scaler.transform(X_test)\n",
    "    X_val_minmax = mm_scaler.fit_transform(X_val)\n",
    "    X_test_minmax = mm_scaler.fit_transform(X_test)\n",
    "    \n",
    "    #Transpose to get feature*no_of_inputs\n",
    "    X_train_minmax = X_train_minmax.T\n",
    "    X_test_minmax = X_test_minmax.T\n",
    "    X_val_minmax = X_val_minmax.T\n",
    "    \n",
    "    y_train = y_train.values.reshape(1, y_train.shape[0])\n",
    "    y_val = y_val.values.reshape(1, y_val.shape[0])\n",
    "    #y_test = y_test.values.reshape(1, y_test.shape[0])\n",
    "      \n",
    "    #logistic regression\n",
    "    epochs = 5000\n",
    "    learning_rate = 0.5\n",
    "    def sigmoid(z):\n",
    "        return 1/(1 +np.exp(-z))\n",
    "    losstrack = []\n",
    "    \n",
    "    #feautre*no_of_inputs(0,1)\n",
    "    #m is no of inputs\n",
    "    #initialize bias and weights\n",
    "    m = X_train_minmax.shape[1]\n",
    "    w = np.random.randn(X_train_minmax.shape[0],1)*0.01\n",
    "    b= 0\n",
    "    m_val = X_val_minmax.shape[1]\n",
    "    losstrack_val=[]\n",
    "    for epoch in range(epochs):\n",
    "        z = np.dot(w.T,X_train_minmax) + b\n",
    "        p = sigmoid(z)\n",
    "        #dotproduct gives values z of all inputs so we sum here\n",
    "        cost = -np.sum(np.multiply(np.log(p), y_train) + np.multiply((1 - y_train), np.log(1 - p)))/m\n",
    "        losstrack.append(np.squeeze(cost))\n",
    "        z_val = np.dot(w.T,X_val_minmax) + b\n",
    "        p_val = sigmoid(z_val)\n",
    "        cost_val = -np.sum(np.multiply(np.log(p_val), y_val) + np.multiply((1 - y_val), np.log(1 - p_val)))/m_val\n",
    "        losstrack_val.append(np.squeeze(cost_val))\n",
    "        dz = p-y_train\n",
    "        dw = (1/m)*np.dot(X_train_minmax,dz.T)\n",
    "        db = (1/m)*np.sum(dz)\n",
    "        w = w - learning_rate * dw\n",
    "        b = b - learning_rate * db\n",
    "  \n",
    "    \n",
    "        \n",
    "    #testing    \n",
    "    y_score = []\n",
    "    \n",
    "    z_test = np.dot(w.T,X_test_minmax) + b\n",
    "    p_test = sigmoid(z_test)\n",
    "    #print(p_test)\n",
    "    \n",
    "\n",
    "    #binarize the test score\n",
    "    for i in np.nditer(p_test):\n",
    "        if i >= 0.5:\n",
    "            y_score.append(1)\n",
    "        else :\n",
    "            y_score.append(0)\n",
    "    \n",
    "    #print(y_score)\n",
    "    \n",
    "#     print(y_score)\n",
    "#     p_test_binary =[]\n",
    "#     for i in y_score:\n",
    "#         if i > 0.5:\n",
    "#             p_test_binary.append(1)\n",
    "#         else:\n",
    "#             p_test_binary.append(0)\n",
    "    \n",
    "    print(accuracy_score(y_test,y_score))\n",
    "    \n",
    "    print(precision_score(y_test,y_score))\n",
    "    print(recall_score(y_test,y_score))\n",
    "        \n",
    "   \n",
    "        \n",
    "    "
   ]
  },
  {
   "cell_type": "code",
   "execution_count": 2,
   "metadata": {},
   "outputs": [
    {
     "data": {
      "text/plain": [
       "<matplotlib.legend.Legend at 0x2cbbe04b2b0>"
      ]
     },
     "execution_count": 2,
     "metadata": {},
     "output_type": "execute_result"
    },
    {
     "data": {
      "image/png": "[encoded data removed]",
      "text/plain": [
       "<Figure size 432x288 with 1 Axes>"
      ]
     },
     "metadata": {},
     "output_type": "display_data"
    }
   ],
   "source": [
    "plt.plot(losstrack)\n",
    "plt.plot(losstrack_val)\n",
    "plt.xlabel(\"epochs\")\n",
    "plt.ylabel(\"loss\")\n",
    "plt.legend([\"Training set\",\"Validation set\"])\n"
   ]
  },
  {
   "cell_type": "code",
   "execution_count": 3,
   "metadata": {},
   "outputs": [],
   "source": [
    "#cnf_matrix = metrics.confusion_matrix(y_test,y_score)\n",
    "#cnf_matrix"
   ]
  },
  {
   "cell_type": "code",
   "execution_count": null,
   "metadata": {},
   "outputs": [],
   "source": []
  },
  {
   "cell_type": "code",
   "execution_count": null,
   "metadata": {},
   "outputs": [],
   "source": []
  }
 ],
 "metadata": {
  "kernelspec": {
   "display_name": "Python 3",
   "language": "python",
   "name": "python3"
  },
  "language_info": {
   "codemirror_mode": {
    "name": "ipython",
    "version": 3
   },
   "file_extension": ".py",
   "mimetype": "text/x-python",
   "name": "python",
   "nbconvert_exporter": "python",
   "pygments_lexer": "ipython3",
   "version": "3.6.5"
  }
 },
 "nbformat": 4,
 "nbformat_minor": 2
}
